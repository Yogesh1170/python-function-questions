{
 "cells": [
  {
   "cell_type": "code",
   "execution_count": 12,
   "id": "1ac80272-4ed7-4224-8bf7-898610d8b6cb",
   "metadata": {},
   "outputs": [
    {
     "name": "stdout",
     "output_type": "stream",
     "text": [
      "[('Sachin Tendulkar', 34357), ('Ricky Ponting', 27483), ('Jack Kallis', 25534), ('Virat Kohli', 24936)]\n",
      "[('Virat Kohli', 24936), ('Jack Kallis', 25534), ('Ricky Ponting', 27483), ('Sachin Tendulkar', 34357)]\n"
     ]
    }
   ],
   "source": [
    "'''Q1. Create a python program to sort the given list of tuples based on integer value using a\n",
    "lambda function.'''\n",
    "a = [('Sachin Tendulkar', 34357), ('Ricky Ponting', 27483), ('Jack Kallis', 25534), ('Virat Kohli', 24936)]\n",
    "print(a)\n",
    "a.sort(key= lambda x:x[1])\n",
    "print(a)"
   ]
  },
  {
   "cell_type": "code",
   "execution_count": 21,
   "id": "9adaeb57-3449-4d80-a35f-e62568f10366",
   "metadata": {},
   "outputs": [],
   "source": [
    "'''Q2. Write a Python Program to find the squares of all the numbers in the given list of integers using\n",
    "lambda and map functions.'''\n",
    "l = [1, 2, 3, 4, 5, 6, 7, 8, 9, 10]"
   ]
  },
  {
   "cell_type": "code",
   "execution_count": 24,
   "id": "ce51c52b-1e5f-47da-a778-bc43bdf8c464",
   "metadata": {},
   "outputs": [
    {
     "data": {
      "text/plain": [
       "[1, 4, 9, 16, 25, 36, 49, 64, 81, 100]"
      ]
     },
     "execution_count": 24,
     "metadata": {},
     "output_type": "execute_result"
    }
   ],
   "source": [
    "list(map(lambda x:x**2,l))"
   ]
  },
  {
   "cell_type": "code",
   "execution_count": 25,
   "id": "1b7e91b4-1d5b-469a-ba30-86d29ebe2b5c",
   "metadata": {},
   "outputs": [
    {
     "data": {
      "text/plain": [
       "('1', '2', '3', '4', '5', '6', '7', '8', '9', '10')"
      ]
     },
     "execution_count": 25,
     "metadata": {},
     "output_type": "execute_result"
    }
   ],
   "source": [
    "'''Q3. Write a python program to convert the given list of integers into a tuple of strings. Use map and\n",
    "lambda functions'''\n",
    "a=[1, 2, 3, 4, 5, 6, 7, 8, 9, 10]\n",
    "tuple(map(lambda x:str(x),a))"
   ]
  },
  {
   "cell_type": "code",
   "execution_count": 37,
   "id": "85cde822-4ad2-4736-8cb0-0d8815cd43be",
   "metadata": {},
   "outputs": [],
   "source": [
    "'''Q4. Write a python program using reduce function to compute the product of a list containing numbers\n",
    "from 1 to 25.'''\n",
    "from functools import reduce "
   ]
  },
  {
   "cell_type": "code",
   "execution_count": 60,
   "id": "368962a2-e183-43b0-8620-bd55149721ca",
   "metadata": {},
   "outputs": [
    {
     "data": {
      "text/plain": [
       "15511210043330985984000000"
      ]
     },
     "execution_count": 60,
     "metadata": {},
     "output_type": "execute_result"
    }
   ],
   "source": [
    "a =range(1,26)\n",
    "reduce(lambda x,y :x*y,a)"
   ]
  },
  {
   "cell_type": "code",
   "execution_count": 67,
   "id": "9ab09550-0ade-49c7-b73d-3c92207b9e49",
   "metadata": {},
   "outputs": [
    {
     "name": "stdout",
     "output_type": "stream",
     "text": [
      "[2, 6, 60, 90, 120, 46] divisible by 2\n",
      "[3, 6, 9, 27, 60, 90, 120] divisible by 3\n"
     ]
    }
   ],
   "source": [
    "'''Q5. Write a python program to filter the numbers in a given list that are divisible by 2 and 3 using the\n",
    "filter function.'''\n",
    "d = [2, 3, 6, 9, 27, 60, 90, 120, 55, 46]\n",
    "a =list (filter(lambda x: x%2==0, d ))\n",
    "print(a,'divisible by 2')\n",
    "b =list(filter(lambda x: x%3==0,d))\n",
    "print(b, 'divisible by 3')\n",
    "\n",
    "\n",
    "\n",
    "\n"
   ]
  },
  {
   "cell_type": "code",
   "execution_count": 83,
   "id": "1020a84f-9694-489e-8b6c-7bc900ac3ab4",
   "metadata": {},
   "outputs": [
    {
     "data": {
      "text/plain": [
       "['php', 'aba', 'radar', 'level']"
      ]
     },
     "execution_count": 83,
     "metadata": {},
     "output_type": "execute_result"
    }
   ],
   "source": [
    "'''Q6. Write a python program to find palindromes in the given list of strings using lambda and filter\n",
    "function.'''\n",
    "a = ['python', 'php', 'aba', 'radar', 'level']\n",
    "list(filter(lambda x : (x ==\"\".join(reversed(x))) , a))"
   ]
  },
  {
   "cell_type": "code",
   "execution_count": null,
   "id": "900ad9a7-48ec-4a2e-a0a4-7944b85fa638",
   "metadata": {},
   "outputs": [],
   "source": []
  }
 ],
 "metadata": {
  "kernelspec": {
   "display_name": "Python 3 (ipykernel)",
   "language": "python",
   "name": "python3"
  },
  "language_info": {
   "codemirror_mode": {
    "name": "ipython",
    "version": 3
   },
   "file_extension": ".py",
   "mimetype": "text/x-python",
   "name": "python",
   "nbconvert_exporter": "python",
   "pygments_lexer": "ipython3",
   "version": "3.10.8"
  }
 },
 "nbformat": 4,
 "nbformat_minor": 5
}
